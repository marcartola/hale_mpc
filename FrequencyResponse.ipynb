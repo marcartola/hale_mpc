{
 "cells": [
  {
   "cell_type": "code",
   "execution_count": 1,
   "metadata": {},
   "outputs": [],
   "source": [
    "import numpy as np\n",
    "import matplotlib.pyplot as plt\n",
    "import matplotlib as mpl\n",
    "import scipy.stats as stats\n",
    "import scipy.signal as scsig\n",
    "import scipy.io as scio\n",
    "import h5py\n",
    "import sharpy.utils.h5utils as h5utils\n",
    "import sharpy.utils.algebra as algebra\n",
    "mpl.rcParams['figure.dpi'] = 100\n",
    "mpl.rcParams['figure.figsize'] = (8, 6)\n",
    "%config InlineBackend.figure_format = 'retina'"
   ]
  },
  {
   "cell_type": "code",
   "execution_count": 2,
   "metadata": {},
   "outputs": [],
   "source": [
    "with h5py.File('./05_AeroFrequencyResponse/output/simple_HALE_uvlm_delta_ntb_mix_alpha0400_lm1/frequencyresponse/aerodynamic.freqresp.h5', 'r') as f:\n",
    "    fom = h5utils.load_h5_in_dict(f)"
   ]
  },
  {
   "cell_type": "code",
   "execution_count": 3,
   "metadata": {},
   "outputs": [],
   "source": [
    "with h5py.File('./04_AeroROM/output/simple_HALE_uvlm_delta_ntb_mix_alpha0400_lm1_rom1_nmodes20/frequencyresponse/aerodynamic.freqresp.h5', 'r') as f:\n",
    "    rom = h5utils.load_h5_in_dict(f)"
   ]
  },
  {
   "cell_type": "code",
   "execution_count": 4,
   "metadata": {},
   "outputs": [
    {
     "data": {
      "text/plain": [
       "3.744393684002034e-10"
      ]
     },
     "execution_count": 4,
     "metadata": {},
     "output_type": "execute_result"
    }
   ],
   "source": [
    "np.max(np.abs(fom['response'][:, :, 0].__abs__() - rom['response'][:, :, 0].__abs__()))"
   ]
  },
  {
   "cell_type": "code",
   "execution_count": 5,
   "metadata": {},
   "outputs": [
    {
     "name": "stdout",
     "output_type": "stream",
     "text": [
      "Output 0\n",
      "Actual -0.6313105143617868\n",
      "2.1755486301344718e-11\n",
      "0.0\n",
      "Output 1\n",
      "Actual -5.3608965237365345\n",
      "1.2745093869170887e-10\n",
      "0.0\n",
      "Output 2\n",
      "Actual 2.0615686182164545e-16\n",
      "1.3317768928079138e-12\n",
      "0.0\n",
      "Output 3\n",
      "Actual 2.2130712403532358e-15\n",
      "1.1791575397530415e-12\n",
      "0.0\n",
      "Output 4\n",
      "Actual -2.4399883982806007e-15\n",
      "-1.3377547199679293e-12\n",
      "0.0\n",
      "Output 5\n",
      "Actual -26.057276629031698\n",
      "4.82458517581108e-12\n",
      "0.0\n",
      "Output 6\n",
      "Actual 0.0\n",
      "0.0\n",
      "0.0\n",
      "Output 7\n",
      "Actual 0.0\n",
      "0.0\n",
      "0.0\n",
      "Output 8\n",
      "Actual 0.0\n",
      "0.0\n",
      "0.0\n",
      "Output 9\n",
      "Actual -0.18404545326900906\n",
      "1.4732723374599743e-10\n",
      "0.0\n",
      "Output 10\n",
      "Actual -1.8120594834983505e-07\n",
      "-7.0577843844875976e-12\n",
      "0.0\n",
      "Output 11\n",
      "Actual -0.10928453809483674\n",
      "8.658267158789812e-11\n",
      "0.0\n",
      "Output 12\n",
      "Actual -3.2109280942249616\n",
      "-5.932232483019106e-11\n",
      "0.0\n",
      "Output 13\n",
      "Actual 2.72616772787308e-08\n",
      "-3.113368778104021e-12\n",
      "0.0\n",
      "Output 14\n",
      "Actual -2.4605568993353137e-07\n",
      "-2.8733713793649585e-12\n",
      "0.0\n",
      "Output 15\n",
      "Actual 1.275342741595342e-06\n",
      "-5.1495519858980984e-14\n",
      "0.0\n",
      "Output 16\n",
      "Actual -1.2766238727399621\n",
      "-7.785772027091298e-11\n",
      "0.0\n",
      "Output 17\n",
      "Actual -0.18959288604234173\n",
      "3.984518270883086e-11\n",
      "0.0\n",
      "Output 18\n",
      "Actual 8.751487585076357e-08\n",
      "1.2928793931411259e-12\n",
      "0.0\n",
      "Output 19\n",
      "Actual -0.09827699466047655\n",
      "2.9675498169901005e-11\n",
      "0.0\n"
     ]
    }
   ],
   "source": [
    "\n",
    "m = -4\n",
    "for p in range(20):\n",
    "    print('Output', p)\n",
    "    print('Actual', fom['response'][p, m, 0].real)\n",
    "    dreal = fom['response'][p, m, 0].real - rom['response'][p, m, 0].real\n",
    "    dimag = fom['response'][p, m, 0].imag - rom['response'][p, m, 0].imag\n",
    "\n",
    "    print(dreal)\n",
    "    print(dimag)"
   ]
  },
  {
   "cell_type": "code",
   "execution_count": 6,
   "metadata": {},
   "outputs": [],
   "source": [
    "rom = scio.loadmat('./04_AeroROM/output/simple_HALE_uvlm_delta_ntb_mix_alpha0400_lm1_rom1_nmodes20/simple_HALE_uvlm_delta_ntb_mix_alpha0400_lm1_rom1_nmodes20/simple_HALE_uvlm_delta_ntb_mix_alpha0400_lm1_rom1_nmodes20.linss.mat')\n"
   ]
  },
  {
   "cell_type": "code",
   "execution_count": 7,
   "metadata": {},
   "outputs": [
    {
     "data": {
      "text/plain": [
       "array([[-8.52550326e-02, -8.96782738e-01,  3.69444191e-18,\n",
       "        -1.27555769e-16, -2.19959081e-17, -4.69415843e-02,\n",
       "         0.00000000e+00,  0.00000000e+00,  0.00000000e+00,\n",
       "        -8.03601182e-01, -6.39212514e-09, -6.87948584e-01,\n",
       "        -9.57621114e-02, -2.67414587e-07, -1.14200940e-07,\n",
       "        -2.07090681e-07, -1.56119230e-01, -4.00405597e-01,\n",
       "         4.73390226e-08, -2.80719737e-01]])"
      ]
     },
     "execution_count": 7,
     "metadata": {},
     "output_type": "execute_result"
    }
   ],
   "source": [
    "rom['forces_aero_beam_dof'][:9]"
   ]
  },
  {
   "cell_type": "markdown",
   "metadata": {},
   "source": [
    "# ROM at alpha trim"
   ]
  },
  {
   "cell_type": "code",
   "execution_count": 8,
   "metadata": {},
   "outputs": [],
   "source": [
    "rom = scio.loadmat('./04_AeroROM/output/AFRAME____simple_HALE_uvlm_delta_ntb_scaled_alpha380.84_lm1_rom1_nmodes20/AFRAME____simple_HALE_uvlm_delta_ntb_scaled_alpha380.84_lm1_rom1_nmodes20/AFRAME____simple_HALE_uvlm_delta_ntb_scaled_alpha380.84_lm1_rom1_nmodes20.linss.mat')\n",
    "uvlm = scio.loadmat('./04_AeroROM/output/AFRAME____simple_HALE_uvlm_delta_ntb_scaled_alpha380.84_lm1_rom1_nmodes20/AFRAME____simple_HALE_uvlm_delta_ntb_scaled_alpha380.84_lm1_rom1_nmodes20/AFRAME____simple_HALE_uvlm_delta_ntb_scaled_alpha380.84_lm1_rom1_nmodes20.uvlmss.mat')\n",
    "\n",
    "\n"
   ]
  },
  {
   "cell_type": "code",
   "execution_count": 9,
   "metadata": {},
   "outputs": [
    {
     "data": {
      "text/plain": [
       "(1, 20)"
      ]
     },
     "execution_count": 9,
     "metadata": {},
     "output_type": "execute_result"
    }
   ],
   "source": [
    "rom['forces_aero_beam_dof'].shape"
   ]
  },
  {
   "cell_type": "code",
   "execution_count": 10,
   "metadata": {},
   "outputs": [
    {
     "data": {
      "text/plain": [
       "array([[0.11304668, 0.        , 0.        , 0.        , 0.        ,\n",
       "        0.        ],\n",
       "       [0.        , 0.11304668, 0.        , 0.        , 0.        ,\n",
       "        0.        ],\n",
       "       [0.        , 0.        , 0.11304668, 0.        , 0.        ,\n",
       "        0.        ],\n",
       "       [0.        , 0.        , 0.        , 0.02210252, 0.        ,\n",
       "        0.        ],\n",
       "       [0.        , 0.        , 0.        , 0.        , 0.05683173,\n",
       "        0.        ],\n",
       "       [0.        , 0.        , 0.        , 0.        , 0.        ,\n",
       "        0.02074477],\n",
       "       [0.        , 0.        , 0.        , 0.        , 0.        ,\n",
       "        0.        ],\n",
       "       [0.        , 0.        , 0.        , 0.        , 0.        ,\n",
       "        0.        ],\n",
       "       [0.        , 0.        , 0.        , 0.        , 0.        ,\n",
       "        0.        ]])"
      ]
     },
     "execution_count": 10,
     "metadata": {},
     "output_type": "execute_result"
    }
   ],
   "source": [
    "rom['mode_shapes'][-9:, :6] "
   ]
  },
  {
   "cell_type": "code",
   "execution_count": 11,
   "metadata": {},
   "outputs": [
    {
     "data": {
      "text/plain": [
       "array([0.11304668, 0.11304668, 0.11304668, 0.02210252, 0.05683173,\n",
       "       0.02074477])"
      ]
     },
     "execution_count": 11,
     "metadata": {},
     "output_type": "execute_result"
    }
   ],
   "source": [
    "np.diag(rom['mode_shapes'][-9:, :6])"
   ]
  },
  {
   "cell_type": "code",
   "execution_count": 12,
   "metadata": {},
   "outputs": [],
   "source": [
    "f0 = rom['forces_aero_beam_dof'][0, :6] / np.diag(rom['mode_shapes'][-9:, :6])"
   ]
  },
  {
   "cell_type": "code",
   "execution_count": 13,
   "metadata": {},
   "outputs": [],
   "source": [
    "delta_elev = -0.7585 * np.pi/180"
   ]
  },
  {
   "cell_type": "code",
   "execution_count": 14,
   "metadata": {},
   "outputs": [],
   "source": [
    "H = uvlm['C'].dot(np.linalg.inv(np.eye(uvlm['A'].shape[0]) - uvlm['A']).dot(uvlm['B'])) + uvlm['D']"
   ]
  },
  {
   "cell_type": "code",
   "execution_count": 15,
   "metadata": {},
   "outputs": [],
   "source": [
    "delta_index = -4\n",
    "u = np.zeros(uvlm['B'].shape[1])\n",
    "u[delta_index] = delta_elev\n",
    "df = H.dot(u)"
   ]
  },
  {
   "cell_type": "code",
   "execution_count": 16,
   "metadata": {},
   "outputs": [
    {
     "name": "stdout",
     "output_type": "stream",
     "text": [
      "[ 3.79763349e-03  1.64674289e-14 -9.70703998e-02 -3.35098355e-13\n",
      "  9.51175254e-01  7.17883727e-14]\n"
     ]
    }
   ],
   "source": [
    "elev_force = df.real[:6] * 0.5 * 1.225 * 0.5 **2 / np.diag(rom['mode_shapes'][-9:, :6])\n",
    "print(elev_force)"
   ]
  },
  {
   "cell_type": "markdown",
   "metadata": {},
   "source": [
    "# ROM at alpha trim with elevator deflection"
   ]
  },
  {
   "cell_type": "code",
   "execution_count": 17,
   "metadata": {},
   "outputs": [],
   "source": [
    "rom = scio.loadmat('./04_AeroROM/output/AFRAME_ELEV___simple_HALE_uvlm_delta_ntb_scaled_alpha380.84_lm1_rom1_nmodes20/' +\n",
    "                   '/AFRAME_ELEV___simple_HALE_uvlm_delta_ntb_scaled_alpha380.84_lm1_rom1_nmodes20/AFRAME_ELEV___simple_HALE_uvlm_delta_ntb_scaled_alpha380.84_lm1_rom1_nmodes20.linss.mat')\n",
    "\n"
   ]
  },
  {
   "cell_type": "code",
   "execution_count": 18,
   "metadata": {},
   "outputs": [],
   "source": [
    "fe = rom['forces_aero_beam_dof'][0, :6] / np.diag(rom['mode_shapes'][-9:, :6])"
   ]
  },
  {
   "cell_type": "code",
   "execution_count": 19,
   "metadata": {},
   "outputs": [],
   "source": [
    "df_nl = fe - f0"
   ]
  },
  {
   "cell_type": "code",
   "execution_count": 20,
   "metadata": {},
   "outputs": [
    {
     "name": "stdout",
     "output_type": "stream",
     "text": [
      "[ 4.09098906e-03 -2.25959591e-16 -9.79670037e-02 -1.41661983e-14\n",
      "  9.60895898e-01  1.77360970e-16]\n"
     ]
    }
   ],
   "source": [
    "print(df_nl)"
   ]
  },
  {
   "cell_type": "code",
   "execution_count": 21,
   "metadata": {},
   "outputs": [
    {
     "name": "stdout",
     "output_type": "stream",
     "text": [
      "[ 2.93355566e-04 -1.66933885e-14 -8.96603865e-04  3.20932156e-13\n",
      "  9.72064363e-03 -7.16110117e-14]\n"
     ]
    }
   ],
   "source": [
    "print(df_nl - elev_force)"
   ]
  },
  {
   "cell_type": "code",
   "execution_count": 22,
   "metadata": {},
   "outputs": [
    {
     "name": "stdout",
     "output_type": "stream",
     "text": [
      "[-4.53164625e-01 -2.79292174e-16  7.47660502e+00  1.76711427e-14\n",
      " -3.01615441e+00  2.19819651e-15]\n"
     ]
    }
   ],
   "source": [
    "print(fe)"
   ]
  },
  {
   "cell_type": "code",
   "execution_count": 23,
   "metadata": {},
   "outputs": [],
   "source": [
    "import sharpy.utils.algebra as algebra"
   ]
  },
  {
   "cell_type": "code",
   "execution_count": 24,
   "metadata": {},
   "outputs": [],
   "source": [
    "cag = algebra.euler2rot(np.array([0, 3.8084 * np.pi/180, 0])).T"
   ]
  },
  {
   "cell_type": "code",
   "execution_count": 25,
   "metadata": {},
   "outputs": [
    {
     "data": {
      "text/plain": [
       "array([  50.98629268,    0.        , -765.93736886])"
      ]
     },
     "execution_count": 25,
     "metadata": {},
     "output_type": "execute_result"
    }
   ],
   "source": [
    "mg = cag.dot([0, 0, -78.25 * 9.81])\n",
    "mg"
   ]
  },
  {
   "cell_type": "code",
   "execution_count": 26,
   "metadata": {},
   "outputs": [],
   "source": [
    "xcga = np.array([0.42, 0.00, 0.11])"
   ]
  },
  {
   "cell_type": "code",
   "execution_count": 27,
   "metadata": {},
   "outputs": [],
   "source": [
    "mom_weight = np.cross(xcga, mg)"
   ]
  },
  {
   "cell_type": "code",
   "execution_count": 28,
   "metadata": {},
   "outputs": [
    {
     "data": {
      "text/plain": [
       "array([ -0.        , 327.30218712,   0.        ])"
      ]
     },
     "execution_count": 28,
     "metadata": {},
     "output_type": "execute_result"
    }
   ],
   "source": [
    "mom_weight"
   ]
  },
  {
   "cell_type": "code",
   "execution_count": 29,
   "metadata": {},
   "outputs": [],
   "source": [
    "FM_weight = np.concatenate((mg, mom_weight))"
   ]
  },
  {
   "cell_type": "code",
   "execution_count": 30,
   "metadata": {},
   "outputs": [
    {
     "data": {
      "text/plain": [
       "array([ 2.13353021e+00, -2.79292174e-14, -1.82768670e+01,  1.76711427e-12,\n",
       "        2.56867463e+01,  2.19819651e-13])"
      ]
     },
     "execution_count": 30,
     "metadata": {},
     "output_type": "execute_result"
    }
   ],
   "source": [
    "fe * 100 + FM_weight + np.array([-3.5363, 0, 0, 0, 0, 0])"
   ]
  },
  {
   "cell_type": "code",
   "execution_count": 31,
   "metadata": {},
   "outputs": [
    {
     "data": {
      "text/plain": [
       "array([-4.53164625e-01, -2.79292174e-16,  7.47660502e+00,  1.76711427e-14,\n",
       "       -3.01615441e+00,  2.19819651e-15])"
      ]
     },
     "execution_count": 31,
     "metadata": {},
     "output_type": "execute_result"
    }
   ],
   "source": [
    "fe"
   ]
  },
  {
   "cell_type": "code",
   "execution_count": 32,
   "metadata": {},
   "outputs": [
    {
     "data": {
      "text/plain": [
       "array([  50.98629268,    0.        , -765.93736886,   -0.        ,\n",
       "        327.30218712,    0.        ])"
      ]
     },
     "execution_count": 32,
     "metadata": {},
     "output_type": "execute_result"
    }
   ],
   "source": [
    "FM_weight"
   ]
  },
  {
   "cell_type": "markdown",
   "metadata": {},
   "source": [
    "# Verification of input scaling"
   ]
  },
  {
   "cell_type": "code",
   "execution_count": 33,
   "metadata": {},
   "outputs": [],
   "source": [
    "path_to_results = './04_AeroROM/output/'\n",
    "scaled_sys_name = 'TEST_simple_HALE_uvlm_delta_ntb_scaled_alpha0400_lm1_rom1_nmodes20'\n",
    "nominal_sys_name = 'TEST_simple_HALE_uvlm_delta_ntb_alpha0400_lm1_rom1_nmodes20'"
   ]
  },
  {
   "cell_type": "code",
   "execution_count": 34,
   "metadata": {},
   "outputs": [],
   "source": [
    "def load_sys(sys_name, path):\n",
    "    sys = scio.loadmat(path + '/' + sys_name + '/{:s}/{:s}.linss.mat'.format(sys_name, sys_name))\n",
    "    uvlm = scio.loadmat(path + '/' + sys_name + '/{:s}/{:s}.uvlmss.mat'.format(sys_name, sys_name))\n",
    "    \n",
    "    return sys, uvlm"
   ]
  },
  {
   "cell_type": "code",
   "execution_count": 35,
   "metadata": {},
   "outputs": [],
   "source": [
    "systems = {}\n",
    "systems['scaled'] = {'name': scaled_sys_name,\n",
    "                    'scaled': True}\n",
    "systems['nominal'] = {'name': nominal_sys_name,\n",
    "                     'scaled': False}"
   ]
  },
  {
   "cell_type": "code",
   "execution_count": 36,
   "metadata": {},
   "outputs": [],
   "source": [
    "for sys_type in systems.values():\n",
    "    sys, uvlm = load_sys(sys_type['name'], path_to_results)\n",
    "    sys_type['sys'] = sys\n",
    "    sys_type['uvlm'] = uvlm\n",
    "    \n",
    "    sys_type['H0'] = uvlm['C'].dot(np.linalg.inv(np.eye(uvlm['A'].shape[0]) - uvlm['A']).dot(uvlm['B'])) + uvlm['D']"
   ]
  },
  {
   "cell_type": "code",
   "execution_count": 37,
   "metadata": {},
   "outputs": [],
   "source": [
    "rho = 1.225\n",
    "u_inf = 10\n",
    "b_chord = 0.5"
   ]
  },
  {
   "cell_type": "code",
   "execution_count": 38,
   "metadata": {},
   "outputs": [],
   "source": [
    "def eval_sys(H, force_mode, *input_values):\n",
    "    u = np.zeros(H.shape[1])\n",
    "    for ind_val in input_values:\n",
    "        index = ind_val[0]\n",
    "        value = ind_val[1]\n",
    "        mode_scaling = ind_val[2]\n",
    "    \n",
    "        u[index] = value / mode_scaling\n",
    "\n",
    "    df = H.dot(u)[:3].real / force_mode\n",
    "    \n",
    "    return df"
   ]
  },
  {
   "cell_type": "code",
   "execution_count": 39,
   "metadata": {},
   "outputs": [
    {
     "ename": "NameError",
     "evalue": "name 'scaling' is not defined",
     "output_type": "error",
     "traceback": [
      "\u001b[0;31m---------------------------------------------------------------------------\u001b[0m",
      "\u001b[0;31mNameError\u001b[0m                                 Traceback (most recent call last)",
      "\u001b[0;32m<ipython-input-39-15fcc724e6a4>\u001b[0m in \u001b[0;36m<module>\u001b[0;34m\u001b[0m\n\u001b[1;32m     13\u001b[0m     \u001b[0;32mif\u001b[0m \u001b[0mvia\u001b[0m \u001b[0;34m==\u001b[0m \u001b[0;34m'angle'\u001b[0m\u001b[0;34m:\u001b[0m\u001b[0;34m\u001b[0m\u001b[0;34m\u001b[0m\u001b[0m\n\u001b[1;32m     14\u001b[0m         \u001b[0min_mode_scaling\u001b[0m \u001b[0;34m=\u001b[0m \u001b[0msys_type\u001b[0m\u001b[0;34m[\u001b[0m\u001b[0;34m'sys'\u001b[0m\u001b[0;34m]\u001b[0m\u001b[0;34m[\u001b[0m\u001b[0;34m'mode_shapes'\u001b[0m\u001b[0;34m]\u001b[0m\u001b[0;34m[\u001b[0m\u001b[0;34m-\u001b[0m\u001b[0;36m2\u001b[0m\u001b[0;34m,\u001b[0m \u001b[0;36m7\u001b[0m\u001b[0;34m]\u001b[0m\u001b[0;34m\u001b[0m\u001b[0;34m\u001b[0m\u001b[0m\n\u001b[0;32m---> 15\u001b[0;31m         \u001b[0mdf\u001b[0m \u001b[0;34m=\u001b[0m \u001b[0meval_sys\u001b[0m\u001b[0;34m(\u001b[0m\u001b[0msys_type\u001b[0m\u001b[0;34m[\u001b[0m\u001b[0;34m'H0'\u001b[0m\u001b[0;34m]\u001b[0m\u001b[0;34m,\u001b[0m \u001b[0mforce_mode\u001b[0m\u001b[0;34m,\u001b[0m \u001b[0;34m(\u001b[0m\u001b[0;34m(\u001b[0m\u001b[0mtheta_index\u001b[0m\u001b[0;34m,\u001b[0m \u001b[0mtheta_value\u001b[0m \u001b[0;34m*\u001b[0m \u001b[0mscaling\u001b[0m\u001b[0;34m,\u001b[0m \u001b[0min_mode_scaling\u001b[0m\u001b[0;34m)\u001b[0m\u001b[0;34m)\u001b[0m\u001b[0;34m)\u001b[0m\u001b[0;34m\u001b[0m\u001b[0;34m\u001b[0m\u001b[0m\n\u001b[0m\u001b[1;32m     16\u001b[0m     \u001b[0;32melse\u001b[0m\u001b[0;34m:\u001b[0m\u001b[0;34m\u001b[0m\u001b[0;34m\u001b[0m\u001b[0m\n\u001b[1;32m     17\u001b[0m         \u001b[0mV0\u001b[0m \u001b[0;34m=\u001b[0m \u001b[0mnp\u001b[0m\u001b[0;34m.\u001b[0m\u001b[0marray\u001b[0m\u001b[0;34m(\u001b[0m\u001b[0;34m[\u001b[0m\u001b[0;34m-\u001b[0m\u001b[0;36m1\u001b[0m\u001b[0;34m,\u001b[0m \u001b[0;36m0\u001b[0m\u001b[0;34m,\u001b[0m \u001b[0;36m0\u001b[0m\u001b[0;34m]\u001b[0m\u001b[0;34m,\u001b[0m \u001b[0mdtype\u001b[0m\u001b[0;34m=\u001b[0m\u001b[0mfloat\u001b[0m\u001b[0;34m)\u001b[0m \u001b[0;34m*\u001b[0m \u001b[0mu_inf\u001b[0m  \u001b[0;31m#G\u001b[0m\u001b[0;34m\u001b[0m\u001b[0;34m\u001b[0m\u001b[0m\n",
      "\u001b[0;31mNameError\u001b[0m: name 'scaling' is not defined"
     ]
    }
   ],
   "source": [
    "theta_index = 27\n",
    "theta_value = 1 * np.pi/180\n",
    "via = 'angle'\n",
    "alpha0 = 4 * np.pi/180\n",
    "n_evals = 6\n",
    "\n",
    "# for sys_type in systems.values():\n",
    "lift_and_drag = np.zeros((n_evals, 4))\n",
    "sys_type = systems['scaled']\n",
    "for i_iter, theta_value in enumerate(np.linspace(-4, 1, n_evals) * np.pi/180):\n",
    "    force_mode = sys_type['sys']['mode_shapes'][-9, 0]\n",
    "    \n",
    "    if via == 'angle':\n",
    "        in_mode_scaling = sys_type['sys']['mode_shapes'][-2, 7]\n",
    "        df = eval_sys(sys_type['H0'], force_mode, ((theta_index, theta_value * scaling, in_mode_scaling)))\n",
    "    else:\n",
    "        V0 = np.array([-1, 0, 0], dtype=float) * u_inf  #G\n",
    "        Vp = u_inf * np.array([-np.cos(theta_value), 0 , -np.sin(theta_value)])  #G\n",
    "    \n",
    "        dvg = Vp - V0  # G\n",
    "#         dvg = np.array([-np.cos(theta_value), 0, -np.sin(theta_value)])\n",
    "        cga = algebra.quat2rotation(algebra.euler2quat(np.array([0, alpha0, 0])))\n",
    "        dva = cga.T.dot(dvg)  # A\n",
    "        if sys_type['scaled']:\n",
    "            dva /= u_inf / b_chord\n",
    "            \n",
    "        df = eval_sys(sys_type['H0'], force_mode, (20, dva[0], force_mode), (22, dva[2], force_mode))\n",
    "\n",
    "    if sys_type['scaled']:\n",
    "        df *= 0.5 *rho * u_inf ** 2 * b_chord ** 2\n",
    "#     print('delta_fa', df, '\\n')\n",
    "    \n",
    "    # Transformation to lift and drag\n",
    "    f0a = sys_type['sys']['forces_aero_beam_dof'][0, :3] / force_mode\n",
    "    ld0 = cga.dot(f0a)\n",
    "\n",
    "    \n",
    "    if via == 'angle':\n",
    "        ld = ld0 + algebra.der_Ceuler_by_v(np.array([0, alpha0, 0]), f0a).dot(np.array([0, theta_value, 0])) + cga.dot(df)\n",
    "    else: \n",
    "        ld = ld0 + algebra.der_Ceuler_by_v(np.array([0, alpha0, 0]), f0a).dot(np.array([0, theta_value, 0])) + cga.dot(df)  # stability axes\n",
    "\n",
    "    lift_and_drag[i_iter, 0] = (alpha0 + theta_value) * 180 / np.pi\n",
    "    lift_and_drag[i_iter, 1:] = ld"
   ]
  },
  {
   "cell_type": "code",
   "execution_count": 40,
   "metadata": {},
   "outputs": [
    {
     "name": "stderr",
     "output_type": "stream",
     "text": [
      "/home/ng213/anaconda3/envs/sharpy_env/lib/python3.7/site-packages/ipykernel_launcher.py:10: RuntimeWarning: invalid value encountered in double_scalars\n",
      "  # Remove the CWD from sys.path while we load stuff.\n"
     ]
    },
    {
     "name": "stdout",
     "output_type": "stream",
     "text": [
      "nan\n",
      "nan\n"
     ]
    },
    {
     "data": {
      "image/png": "[encoded data removed]",
      "text/plain": [
       "<Figure size 800x600 with 2 Axes>"
      ]
     },
     "metadata": {
      "image/png": {
       "height": 496,
       "width": 692
      },
      "needs_background": "light"
     },
     "output_type": "display_data"
    }
   ],
   "source": [
    "fig, ax = plt.subplots(ncols=2)\n",
    "for i in range(2):\n",
    "    if i == 0:\n",
    "        index_force = 3\n",
    "    else:\n",
    "        index_force = 1\n",
    "\n",
    "    ax[i].plot(lift_and_drag[:, 0], lift_and_drag[:, index_force] / (0.5 * rho * u_inf**2 * 32))\n",
    "    \n",
    "    slope = (lift_and_drag[-1, index_force] - lift_and_drag[0, index_force]) / (0.5 * rho * u_inf**2 * 32) / ((lift_and_drag[-1, 0] - lift_and_drag[0, 0]) * (np.pi/180))\n",
    "    print(slope)"
   ]
  },
  {
   "cell_type": "code",
   "execution_count": 194,
   "metadata": {},
   "outputs": [
    {
     "data": {
      "text/plain": [
       "array([ 1.55290997,  0.        , -0.00969877])"
      ]
     },
     "execution_count": 194,
     "metadata": {},
     "output_type": "execute_result"
    }
   ],
   "source": [
    "algebra.der_Ceuler_by_v(np.array([0, alpha0, 0]), sys_type['sys']['forces_aero_beam_dof'][0, :3]).dot(np.array([0, theta_value, 0]))"
   ]
  },
  {
   "cell_type": "code",
   "execution_count": 193,
   "metadata": {},
   "outputs": [
    {
     "data": {
      "text/plain": [
       "array([-1.26547880e+00,  1.97249566e-14,  2.25008516e+01])"
      ]
     },
     "execution_count": 193,
     "metadata": {},
     "output_type": "execute_result"
    }
   ],
   "source": [
    "cga.dot(df)"
   ]
  },
  {
   "cell_type": "code",
   "execution_count": null,
   "metadata": {},
   "outputs": [],
   "source": []
  }
 ],
 "metadata": {
  "kernelspec": {
   "display_name": "Python 3",
   "language": "python",
   "name": "python3"
  },
  "language_info": {
   "codemirror_mode": {
    "name": "ipython",
    "version": 3
   },
   "file_extension": ".py",
   "mimetype": "text/x-python",
   "name": "python",
   "nbconvert_exporter": "python",
   "pygments_lexer": "ipython3",
   "version": "3.7.5"
  }
 },
 "nbformat": 4,
 "nbformat_minor": 4
}
